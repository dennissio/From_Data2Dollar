{
 "cells": [
  {
   "cell_type": "code",
   "execution_count": 27,
   "metadata": {},
   "outputs": [],
   "source": [
    "#Import of libraries\n",
    "import pandas as pd\n",
    "import numpy as np"
   ]
  },
  {
   "cell_type": "code",
   "execution_count": 28,
   "metadata": {},
   "outputs": [
    {
     "data": {
      "text/html": [
       "<div>\n",
       "<style scoped>\n",
       "    .dataframe tbody tr th:only-of-type {\n",
       "        vertical-align: middle;\n",
       "    }\n",
       "\n",
       "    .dataframe tbody tr th {\n",
       "        vertical-align: top;\n",
       "    }\n",
       "\n",
       "    .dataframe thead th {\n",
       "        text-align: right;\n",
       "    }\n",
       "</style>\n",
       "<table border=\"1\" class=\"dataframe\">\n",
       "  <thead>\n",
       "    <tr style=\"text-align: right;\">\n",
       "      <th></th>\n",
       "      <th>Unnamed: 0</th>\n",
       "      <th>date_crawl</th>\n",
       "      <th>city</th>\n",
       "      <th>uid</th>\n",
       "      <th>book_date</th>\n",
       "      <th>price</th>\n",
       "      <th>event</th>\n",
       "      <th>rating</th>\n",
       "      <th>provider</th>\n",
       "      <th>source</th>\n",
       "      <th>...</th>\n",
       "      <th>conversation_rate</th>\n",
       "      <th>applause_rate</th>\n",
       "      <th>total_engagement</th>\n",
       "      <th>relevance</th>\n",
       "      <th>retweets_cum</th>\n",
       "      <th>likes_cum</th>\n",
       "      <th>replies_cum</th>\n",
       "      <th>retweets_cont</th>\n",
       "      <th>likes_cont</th>\n",
       "      <th>replies_cont</th>\n",
       "    </tr>\n",
       "  </thead>\n",
       "  <tbody>\n",
       "    <tr>\n",
       "      <th>0</th>\n",
       "      <td>0</td>\n",
       "      <td>2023-03-30</td>\n",
       "      <td>La Palma</td>\n",
       "      <td>title_44546103</td>\n",
       "      <td>2023-05-20</td>\n",
       "      <td>90</td>\n",
       "      <td>True</td>\n",
       "      <td>4.78</td>\n",
       "      <td>privat</td>\n",
       "      <td>airbnb</td>\n",
       "      <td>...</td>\n",
       "      <td>0.055556</td>\n",
       "      <td>3.777778</td>\n",
       "      <td>95</td>\n",
       "      <td>gering</td>\n",
       "      <td>2.0</td>\n",
       "      <td>17.0</td>\n",
       "      <td>0.0</td>\n",
       "      <td>0.0</td>\n",
       "      <td>3.0</td>\n",
       "      <td>0.0</td>\n",
       "    </tr>\n",
       "    <tr>\n",
       "      <th>1</th>\n",
       "      <td>1</td>\n",
       "      <td>2023-03-30</td>\n",
       "      <td>La Palma</td>\n",
       "      <td>title_14832235</td>\n",
       "      <td>2023-05-20</td>\n",
       "      <td>86</td>\n",
       "      <td>True</td>\n",
       "      <td>4.78</td>\n",
       "      <td>privat</td>\n",
       "      <td>airbnb</td>\n",
       "      <td>...</td>\n",
       "      <td>0.055556</td>\n",
       "      <td>3.777778</td>\n",
       "      <td>95</td>\n",
       "      <td>gering</td>\n",
       "      <td>2.0</td>\n",
       "      <td>17.0</td>\n",
       "      <td>0.0</td>\n",
       "      <td>0.0</td>\n",
       "      <td>3.0</td>\n",
       "      <td>0.0</td>\n",
       "    </tr>\n",
       "    <tr>\n",
       "      <th>2</th>\n",
       "      <td>2</td>\n",
       "      <td>2023-03-30</td>\n",
       "      <td>La Palma</td>\n",
       "      <td>title_22183776</td>\n",
       "      <td>2023-05-20</td>\n",
       "      <td>63</td>\n",
       "      <td>True</td>\n",
       "      <td>4.90</td>\n",
       "      <td>privat</td>\n",
       "      <td>airbnb</td>\n",
       "      <td>...</td>\n",
       "      <td>0.055556</td>\n",
       "      <td>3.777778</td>\n",
       "      <td>95</td>\n",
       "      <td>gering</td>\n",
       "      <td>2.0</td>\n",
       "      <td>17.0</td>\n",
       "      <td>0.0</td>\n",
       "      <td>0.0</td>\n",
       "      <td>3.0</td>\n",
       "      <td>0.0</td>\n",
       "    </tr>\n",
       "    <tr>\n",
       "      <th>3</th>\n",
       "      <td>3</td>\n",
       "      <td>2023-03-30</td>\n",
       "      <td>La Palma</td>\n",
       "      <td>title_26944967</td>\n",
       "      <td>2023-05-20</td>\n",
       "      <td>109</td>\n",
       "      <td>True</td>\n",
       "      <td>4.76</td>\n",
       "      <td>privat</td>\n",
       "      <td>airbnb</td>\n",
       "      <td>...</td>\n",
       "      <td>0.055556</td>\n",
       "      <td>3.777778</td>\n",
       "      <td>95</td>\n",
       "      <td>gering</td>\n",
       "      <td>2.0</td>\n",
       "      <td>17.0</td>\n",
       "      <td>0.0</td>\n",
       "      <td>0.0</td>\n",
       "      <td>3.0</td>\n",
       "      <td>0.0</td>\n",
       "    </tr>\n",
       "    <tr>\n",
       "      <th>4</th>\n",
       "      <td>4</td>\n",
       "      <td>2023-03-30</td>\n",
       "      <td>La Palma</td>\n",
       "      <td>title_741718109680848267</td>\n",
       "      <td>2023-05-20</td>\n",
       "      <td>46</td>\n",
       "      <td>True</td>\n",
       "      <td>4.85</td>\n",
       "      <td>privat</td>\n",
       "      <td>airbnb</td>\n",
       "      <td>...</td>\n",
       "      <td>0.055556</td>\n",
       "      <td>3.777778</td>\n",
       "      <td>95</td>\n",
       "      <td>gering</td>\n",
       "      <td>2.0</td>\n",
       "      <td>17.0</td>\n",
       "      <td>0.0</td>\n",
       "      <td>0.0</td>\n",
       "      <td>3.0</td>\n",
       "      <td>0.0</td>\n",
       "    </tr>\n",
       "  </tbody>\n",
       "</table>\n",
       "<p>5 rows × 26 columns</p>\n",
       "</div>"
      ],
      "text/plain": [
       "   Unnamed: 0  date_crawl      city                       uid   book_date  \\\n",
       "0           0  2023-03-30  La Palma            title_44546103  2023-05-20   \n",
       "1           1  2023-03-30  La Palma            title_14832235  2023-05-20   \n",
       "2           2  2023-03-30  La Palma            title_22183776  2023-05-20   \n",
       "3           3  2023-03-30  La Palma            title_26944967  2023-05-20   \n",
       "4           4  2023-03-30  La Palma  title_741718109680848267  2023-05-20   \n",
       "\n",
       "   price  event  rating provider  source  ... conversation_rate  \\\n",
       "0     90   True    4.78   privat  airbnb  ...          0.055556   \n",
       "1     86   True    4.78   privat  airbnb  ...          0.055556   \n",
       "2     63   True    4.90   privat  airbnb  ...          0.055556   \n",
       "3    109   True    4.76   privat  airbnb  ...          0.055556   \n",
       "4     46   True    4.85   privat  airbnb  ...          0.055556   \n",
       "\n",
       "   applause_rate  total_engagement  relevance  retweets_cum  likes_cum  \\\n",
       "0       3.777778                95     gering           2.0       17.0   \n",
       "1       3.777778                95     gering           2.0       17.0   \n",
       "2       3.777778                95     gering           2.0       17.0   \n",
       "3       3.777778                95     gering           2.0       17.0   \n",
       "4       3.777778                95     gering           2.0       17.0   \n",
       "\n",
       "   replies_cum  retweets_cont  likes_cont replies_cont  \n",
       "0          0.0            0.0         3.0          0.0  \n",
       "1          0.0            0.0         3.0          0.0  \n",
       "2          0.0            0.0         3.0          0.0  \n",
       "3          0.0            0.0         3.0          0.0  \n",
       "4          0.0            0.0         3.0          0.0  \n",
       "\n",
       "[5 rows x 26 columns]"
      ]
     },
     "execution_count": 28,
     "metadata": {},
     "output_type": "execute_result"
    }
   ],
   "source": [
    "#Import of data\n",
    "df = pd.read_csv('data_combined.csv')\n",
    "df.head()"
   ]
  },
  {
   "cell_type": "code",
   "execution_count": 29,
   "metadata": {},
   "outputs": [
    {
     "data": {
      "text/plain": [
       "Index(['Unnamed: 0', 'date_crawl', 'city', 'uid', 'book_date', 'price',\n",
       "       'event', 'rating', 'provider', 'source', 'event_name', 'tweets',\n",
       "       'retweets', 'likes', 'replies', 'amplification_rate',\n",
       "       'conversation_rate', 'applause_rate', 'total_engagement', 'relevance',\n",
       "       'retweets_cum', 'likes_cum', 'replies_cum', 'retweets_cont',\n",
       "       'likes_cont', 'replies_cont'],\n",
       "      dtype='object')"
      ]
     },
     "execution_count": 29,
     "metadata": {},
     "output_type": "execute_result"
    }
   ],
   "source": [
    "#Data analysis\n",
    "df.columns"
   ]
  },
  {
   "cell_type": "code",
   "execution_count": 30,
   "metadata": {},
   "outputs": [],
   "source": [
    "#Data cleaning\n",
    "df.drop('Unnamed: 0', axis=1, inplace=True)\n",
    "df.drop('event_name', axis=1, inplace=True)\n",
    "df.drop('uid', axis=1, inplace=True)\n",
    "\n"
   ]
  },
  {
   "cell_type": "code",
   "execution_count": 31,
   "metadata": {},
   "outputs": [],
   "source": [
    "#Feature engineering\n",
    "df['book_date'] = df['book_date'].astype('datetime64[ns]')\n",
    "df['date_crawl'] = df['date_crawl'].astype('datetime64[ns]')\n",
    "df['year'] = df['book_date'].dt.year\n",
    "df['month'] = df['book_date'].dt.month\n",
    "df['day'] = df['book_date'].dt.day\n",
    "df['year_crawl'] = df['date_crawl'].dt.year\n",
    "df['month_crawl'] = df['date_crawl'].dt.month\n",
    "df['day_crawl'] = df['date_crawl'].dt.day\n",
    "df.drop('book_date', axis=1, inplace=True)\n",
    "df.drop('date_crawl', axis=1, inplace=True)"
   ]
  },
  {
   "cell_type": "code",
   "execution_count": 32,
   "metadata": {},
   "outputs": [],
   "source": [
    "#get dummies for categorical variables city\n",
    "df = pd.get_dummies(df, columns=['city'], drop_first=True)\n",
    "df = pd.get_dummies(df, columns=['event'], drop_first=True)\n",
    "df = pd.get_dummies(df, columns=['provider'], drop_first=True)\n",
    "df = pd.get_dummies(df, columns=['source'], drop_first=True)\n",
    "df = pd.get_dummies(df, columns=['relevance'], drop_first=True)"
   ]
  },
  {
   "cell_type": "code",
   "execution_count": 33,
   "metadata": {},
   "outputs": [],
   "source": [
    "df.drop('amplification_rate', axis=1, inplace=True)\n",
    "df.drop('conversation_rate', axis=1, inplace=True)\n",
    "df.drop('applause_rate', axis=1, inplace=True)\n",
    "df.drop('retweets_cum', axis=1, inplace=True)\n",
    "df.drop('likes_cum', axis=1, inplace=True)\n",
    "df.drop('replies_cum', axis=1, inplace=True)\n",
    "df.drop('retweets_cont', axis=1, inplace=True)\n",
    "df.drop('replies_cont', axis=1, inplace=True)\n",
    "df.drop('likes_cont', axis=1, inplace=True)\n",
    "df.drop('retweets', axis=1, inplace=True)\n",
    "df.drop('replies', axis=1, inplace=True)\n",
    "df.drop('likes', axis=1, inplace=True)\n",
    "df.drop('tweets', axis=1, inplace=True)"
   ]
  },
  {
   "cell_type": "code",
   "execution_count": 34,
   "metadata": {},
   "outputs": [
    {
     "data": {
      "text/plain": [
       "Index(['price', 'rating', 'total_engagement', 'year', 'month', 'day',\n",
       "       'year_crawl', 'month_crawl', 'day_crawl', 'city_Barcelona',\n",
       "       'city_Berlin', 'city_Bologna', 'city_Brighton', 'city_Bruessel',\n",
       "       'city_Halle', 'city_Hamburg', 'city_Helsinki', 'city_La Palma',\n",
       "       'city_Lyon', 'city_Monaco', 'city_Muenchen', 'city_Noordwijk',\n",
       "       'city_Sevilla', 'event_True', 'provider_privat', 'source_booking',\n",
       "       'relevance_hoch', 'relevance_mittel', 'relevance_sehr hoch'],\n",
       "      dtype='object')"
      ]
     },
     "execution_count": 34,
     "metadata": {},
     "output_type": "execute_result"
    }
   ],
   "source": [
    "df.columns"
   ]
  },
  {
   "cell_type": "code",
   "execution_count": 35,
   "metadata": {},
   "outputs": [
    {
     "name": "stdout",
     "output_type": "stream",
     "text": [
      "RMSE: 292.37062008451824\n",
      "R2: 0.3178097883452904\n"
     ]
    }
   ],
   "source": [
    "from xgboost import XGBRegressor\n",
    "from sklearn.model_selection import train_test_split\n",
    "from sklearn.metrics import mean_squared_error, r2_score\n",
    "\n",
    "# Create linear regression object\n",
    "regr_XGB = XGBRegressor(n_estimators=1000, learning_rate=0.1, random_state=12, max_depth=8, subsample=0.7, colsample_bytree=0.3)\n",
    "\n",
    "# Train the model using the training sets\n",
    "X = df.drop('price', axis=1)\n",
    "y = df['price']\n",
    "X_train, X_test, y_train, y_test = train_test_split(X, y, test_size=0.2, random_state=12)\n",
    "regr_XGB.fit(X_train, y_train)\n",
    "\n",
    "# Make predictions using the testing set\n",
    "y_pred = regr_XGB.predict(X_test)\n",
    "\n",
    "# Show RMSE, MAPE, R2\n",
    "print('RMSE:', np.sqrt(mean_squared_error(y_test, y_pred)))\n",
    "print('R2:', r2_score(y_test, y_pred))"
   ]
  },
  {
   "cell_type": "code",
   "execution_count": 36,
   "metadata": {},
   "outputs": [
    {
     "data": {
      "image/png": "[encoded data removed]",
      "text/plain": [
       "<Figure size 640x480 with 1 Axes>"
      ]
     },
     "metadata": {},
     "output_type": "display_data"
    }
   ],
   "source": [
    "# Show feature importance\n",
    "\n",
    "from xgboost import plot_importance\n",
    "from matplotlib import pyplot as plt\n",
    "plot_importance(regr_XGB, max_num_features=10)\n",
    "plt.show()\n"
   ]
  },
  {
   "cell_type": "code",
   "execution_count": 37,
   "metadata": {},
   "outputs": [],
   "source": [
    "import pickle\n",
    "\n",
    "# save the trained model to a file using pickle\n",
    "with open('model.pkl', 'wb') as f:\n",
    "    pickle.dump(regr_XGB, f)"
   ]
  },
  {
   "cell_type": "code",
   "execution_count": 38,
   "metadata": {},
   "outputs": [],
   "source": [
    "# DF für Prediction in einer neuen CSV-Datei speichern\n",
    "df.to_csv('xgb_data.csv', index=False, encoding='utf-8-sig', sep=',')"
   ]
  }
 ],
 "metadata": {
  "kernelspec": {
   "display_name": "Data",
   "language": "python",
   "name": "python3"
  },
  "language_info": {
   "codemirror_mode": {
    "name": "ipython",
    "version": 3
   },
   "file_extension": ".py",
   "mimetype": "text/x-python",
   "name": "python",
   "nbconvert_exporter": "python",
   "pygments_lexer": "ipython3",
   "version": "3.8.16"
  },
  "orig_nbformat": 4
 },
 "nbformat": 4,
 "nbformat_minor": 2
}
