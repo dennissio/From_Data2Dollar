{
 "cells": [
  {
   "cell_type": "code",
   "execution_count": 33,
   "metadata": {},
   "outputs": [],
   "source": [
    "import pandas as pd\n",
    "import numpy as np"
   ]
  },
  {
   "cell_type": "code",
   "execution_count": 34,
   "metadata": {},
   "outputs": [
    {
     "data": {
      "text/html": [
       "<div>\n",
       "<style scoped>\n",
       "    .dataframe tbody tr th:only-of-type {\n",
       "        vertical-align: middle;\n",
       "    }\n",
       "\n",
       "    .dataframe tbody tr th {\n",
       "        vertical-align: top;\n",
       "    }\n",
       "\n",
       "    .dataframe thead th {\n",
       "        text-align: right;\n",
       "    }\n",
       "</style>\n",
       "<table border=\"1\" class=\"dataframe\">\n",
       "  <thead>\n",
       "    <tr style=\"text-align: right;\">\n",
       "      <th></th>\n",
       "      <th>Unnamed: 0</th>\n",
       "      <th>date_crawl</th>\n",
       "      <th>city</th>\n",
       "      <th>uid</th>\n",
       "      <th>book_date</th>\n",
       "      <th>price</th>\n",
       "      <th>event</th>\n",
       "      <th>rating</th>\n",
       "      <th>provider</th>\n",
       "      <th>source</th>\n",
       "      <th>event_name</th>\n",
       "      <th>tweets</th>\n",
       "      <th>retweets</th>\n",
       "      <th>likes</th>\n",
       "      <th>replies</th>\n",
       "      <th>amplification_rate</th>\n",
       "      <th>conversation_rate</th>\n",
       "      <th>applause_rate</th>\n",
       "    </tr>\n",
       "  </thead>\n",
       "  <tbody>\n",
       "    <tr>\n",
       "      <th>0</th>\n",
       "      <td>0</td>\n",
       "      <td>2023-03-30</td>\n",
       "      <td>La Palma</td>\n",
       "      <td>title_44546103</td>\n",
       "      <td>2023-05-20</td>\n",
       "      <td>90</td>\n",
       "      <td>True</td>\n",
       "      <td>4.78</td>\n",
       "      <td>privat</td>\n",
       "      <td>airbnb</td>\n",
       "      <td>MLF23</td>\n",
       "      <td>18.0</td>\n",
       "      <td>8.0</td>\n",
       "      <td>68.0</td>\n",
       "      <td>1.0</td>\n",
       "      <td>0.444444</td>\n",
       "      <td>0.055556</td>\n",
       "      <td>3.777778</td>\n",
       "    </tr>\n",
       "    <tr>\n",
       "      <th>1</th>\n",
       "      <td>1</td>\n",
       "      <td>2023-03-30</td>\n",
       "      <td>La Palma</td>\n",
       "      <td>title_14832235</td>\n",
       "      <td>2023-05-20</td>\n",
       "      <td>86</td>\n",
       "      <td>True</td>\n",
       "      <td>4.78</td>\n",
       "      <td>privat</td>\n",
       "      <td>airbnb</td>\n",
       "      <td>MLF23</td>\n",
       "      <td>18.0</td>\n",
       "      <td>8.0</td>\n",
       "      <td>68.0</td>\n",
       "      <td>1.0</td>\n",
       "      <td>0.444444</td>\n",
       "      <td>0.055556</td>\n",
       "      <td>3.777778</td>\n",
       "    </tr>\n",
       "    <tr>\n",
       "      <th>2</th>\n",
       "      <td>2</td>\n",
       "      <td>2023-03-30</td>\n",
       "      <td>La Palma</td>\n",
       "      <td>title_22183776</td>\n",
       "      <td>2023-05-20</td>\n",
       "      <td>63</td>\n",
       "      <td>True</td>\n",
       "      <td>4.90</td>\n",
       "      <td>privat</td>\n",
       "      <td>airbnb</td>\n",
       "      <td>MLF23</td>\n",
       "      <td>18.0</td>\n",
       "      <td>8.0</td>\n",
       "      <td>68.0</td>\n",
       "      <td>1.0</td>\n",
       "      <td>0.444444</td>\n",
       "      <td>0.055556</td>\n",
       "      <td>3.777778</td>\n",
       "    </tr>\n",
       "    <tr>\n",
       "      <th>3</th>\n",
       "      <td>3</td>\n",
       "      <td>2023-03-30</td>\n",
       "      <td>La Palma</td>\n",
       "      <td>title_26944967</td>\n",
       "      <td>2023-05-20</td>\n",
       "      <td>109</td>\n",
       "      <td>True</td>\n",
       "      <td>4.76</td>\n",
       "      <td>privat</td>\n",
       "      <td>airbnb</td>\n",
       "      <td>MLF23</td>\n",
       "      <td>18.0</td>\n",
       "      <td>8.0</td>\n",
       "      <td>68.0</td>\n",
       "      <td>1.0</td>\n",
       "      <td>0.444444</td>\n",
       "      <td>0.055556</td>\n",
       "      <td>3.777778</td>\n",
       "    </tr>\n",
       "    <tr>\n",
       "      <th>4</th>\n",
       "      <td>4</td>\n",
       "      <td>2023-03-30</td>\n",
       "      <td>La Palma</td>\n",
       "      <td>title_741718109680848267</td>\n",
       "      <td>2023-05-20</td>\n",
       "      <td>46</td>\n",
       "      <td>True</td>\n",
       "      <td>4.85</td>\n",
       "      <td>privat</td>\n",
       "      <td>airbnb</td>\n",
       "      <td>MLF23</td>\n",
       "      <td>18.0</td>\n",
       "      <td>8.0</td>\n",
       "      <td>68.0</td>\n",
       "      <td>1.0</td>\n",
       "      <td>0.444444</td>\n",
       "      <td>0.055556</td>\n",
       "      <td>3.777778</td>\n",
       "    </tr>\n",
       "  </tbody>\n",
       "</table>\n",
       "</div>"
      ],
      "text/plain": [
       "   Unnamed: 0  date_crawl      city                       uid   book_date  \\\n",
       "0           0  2023-03-30  La Palma            title_44546103  2023-05-20   \n",
       "1           1  2023-03-30  La Palma            title_14832235  2023-05-20   \n",
       "2           2  2023-03-30  La Palma            title_22183776  2023-05-20   \n",
       "3           3  2023-03-30  La Palma            title_26944967  2023-05-20   \n",
       "4           4  2023-03-30  La Palma  title_741718109680848267  2023-05-20   \n",
       "\n",
       "   price  event  rating provider  source event_name  tweets  retweets  likes  \\\n",
       "0     90   True    4.78   privat  airbnb      MLF23    18.0       8.0   68.0   \n",
       "1     86   True    4.78   privat  airbnb      MLF23    18.0       8.0   68.0   \n",
       "2     63   True    4.90   privat  airbnb      MLF23    18.0       8.0   68.0   \n",
       "3    109   True    4.76   privat  airbnb      MLF23    18.0       8.0   68.0   \n",
       "4     46   True    4.85   privat  airbnb      MLF23    18.0       8.0   68.0   \n",
       "\n",
       "   replies  amplification_rate  conversation_rate  applause_rate  \n",
       "0      1.0            0.444444           0.055556       3.777778  \n",
       "1      1.0            0.444444           0.055556       3.777778  \n",
       "2      1.0            0.444444           0.055556       3.777778  \n",
       "3      1.0            0.444444           0.055556       3.777778  \n",
       "4      1.0            0.444444           0.055556       3.777778  "
      ]
     },
     "execution_count": 34,
     "metadata": {},
     "output_type": "execute_result"
    }
   ],
   "source": [
    "df = pd.read_csv('data_combined.csv')\n",
    "df.head()"
   ]
  },
  {
   "cell_type": "code",
   "execution_count": 35,
   "metadata": {},
   "outputs": [
    {
     "data": {
      "text/plain": [
       "Index(['Unnamed: 0', 'date_crawl', 'city', 'uid', 'book_date', 'price',\n",
       "       'event', 'rating', 'provider', 'source', 'event_name', 'tweets',\n",
       "       'retweets', 'likes', 'replies', 'amplification_rate',\n",
       "       'conversation_rate', 'applause_rate'],\n",
       "      dtype='object')"
      ]
     },
     "execution_count": 35,
     "metadata": {},
     "output_type": "execute_result"
    }
   ],
   "source": [
    "df.columns"
   ]
  },
  {
   "cell_type": "code",
   "execution_count": 36,
   "metadata": {},
   "outputs": [],
   "source": [
    "df.drop('Unnamed: 0', axis=1, inplace=True)\n",
    "df.drop('event_name', axis=1, inplace=True)\n",
    "df.drop('uid', axis=1, inplace=True)\n",
    "\n"
   ]
  },
  {
   "cell_type": "code",
   "execution_count": 37,
   "metadata": {},
   "outputs": [],
   "source": [
    "df['book_date'] = df['book_date'].astype('datetime64[ns]')\n",
    "df['date_crawl'] = df['date_crawl'].astype('datetime64[ns]')\n",
    "df['year'] = df['book_date'].dt.year\n",
    "df['month'] = df['book_date'].dt.month\n",
    "df['day'] = df['book_date'].dt.day\n",
    "df['year_crawl'] = df['date_crawl'].dt.year\n",
    "df['month_crawl'] = df['date_crawl'].dt.month\n",
    "df['day_crawl'] = df['date_crawl'].dt.day\n",
    "df.drop('book_date', axis=1, inplace=True)\n",
    "df.drop('date_crawl', axis=1, inplace=True)"
   ]
  },
  {
   "cell_type": "code",
   "execution_count": 38,
   "metadata": {},
   "outputs": [],
   "source": [
    "#get dummies for categorical variables city\n",
    "df = pd.get_dummies(df, columns=['city'], drop_first=True)\n",
    "df = pd.get_dummies(df, columns=['event'], drop_first=True)\n",
    "df = pd.get_dummies(df, columns=['provider'], drop_first=True)\n",
    "df = pd.get_dummies(df, columns=['source'], drop_first=True)"
   ]
  },
  {
   "cell_type": "code",
   "execution_count": 39,
   "metadata": {},
   "outputs": [],
   "source": [
    "df.drop('retweets', axis=1, inplace=True)\n",
    "df.drop('likes', axis=1, inplace=True)\n",
    "df.drop('replies', axis=1, inplace=True)\n",
    "df.drop('amplification_rate', axis=1, inplace=True)\n",
    "df.drop('conversation_rate', axis=1, inplace=True)\n",
    "df.drop('applause_rate', axis=1, inplace=True)\n",
    "df = pd.get_dummies(df, columns=['tweets'], drop_first=True)\n",
    "\n"
   ]
  },
  {
   "cell_type": "code",
   "execution_count": 43,
   "metadata": {},
   "outputs": [
    {
     "name": "stdout",
     "output_type": "stream",
     "text": [
      "RMSE: 295.82126177706385\n",
      "R2: 0.3016119553270521\n"
     ]
    }
   ],
   "source": [
    "from xgboost import XGBRegressor\n",
    "from sklearn.model_selection import train_test_split\n",
    "from sklearn.metrics import mean_squared_error, r2_score\n",
    "\n",
    "# Create linear regression object\n",
    "regr_XGB = XGBRegressor(n_estimators=1000, learning_rate=0.05, random_state=1, max_depth=10, subsample=0.8, colsample_bytree=0.4, gamma = 0.1, reg_alpha = 0.1, reg_lambda = 0.1)\n",
    "\n",
    "# Train the model using the training sets\n",
    "X = df.drop('price', axis=1)\n",
    "y = df['price']\n",
    "X_train, X_test, y_train, y_test = train_test_split(X, y, test_size=0.2, random_state=12)\n",
    "regr_XGB.fit(X_train, y_train)\n",
    "\n",
    "# Make predictions using the testing set\n",
    "y_pred = regr_XGB.predict(X_test)\n",
    "\n",
    "# Show RMSE, MAPE, R2\n",
    "print('RMSE:', np.sqrt(mean_squared_error(y_test, y_pred)))\n",
    "print('R2:', r2_score(y_test, y_pred))"
   ]
  },
  {
   "cell_type": "code",
   "execution_count": 41,
   "metadata": {},
   "outputs": [
    {
     "name": "stdout",
     "output_type": "stream",
     "text": [
      "RMSE: 336.0005422917534\n",
      "R2: 0.09901412461489567\n"
     ]
    }
   ],
   "source": [
    "from sklearn.linear_model import LinearRegression\n",
    "regr = LinearRegression()\n",
    "\n",
    "regr.fit(X_train, y_train)\n",
    "y_pred = regr.predict(X_test)\n",
    "\n",
    "# Show RMSE, MAPE, R2\n",
    "print('RMSE:', np.sqrt(mean_squared_error(y_test, y_pred)))\n",
    "print('R2:', r2_score(y_test, y_pred))"
   ]
  },
  {
   "cell_type": "code",
   "execution_count": 44,
   "metadata": {},
   "outputs": [],
   "source": [
    "import pickle\n",
    "\n",
    "# save the trained model to a file using pickle\n",
    "with open('model.pkl', 'wb') as f:\n",
    "    pickle.dump(regr_XGB, f)"
   ]
  }
 ],
 "metadata": {
  "kernelspec": {
   "display_name": "Data",
   "language": "python",
   "name": "python3"
  },
  "language_info": {
   "codemirror_mode": {
    "name": "ipython",
    "version": 3
   },
   "file_extension": ".py",
   "mimetype": "text/x-python",
   "name": "python",
   "nbconvert_exporter": "python",
   "pygments_lexer": "ipython3",
   "version": "3.8.16"
  },
  "orig_nbformat": 4
 },
 "nbformat": 4,
 "nbformat_minor": 2
}
